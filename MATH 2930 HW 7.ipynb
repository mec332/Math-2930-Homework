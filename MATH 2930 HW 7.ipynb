{
 "cells": [
  {
   "cell_type": "markdown",
   "metadata": {},
   "source": [
    "# Homework 7, Question 18 b)"
   ]
  },
  {
   "cell_type": "markdown",
   "metadata": {},
   "source": [
    "Matthew Choy, mec332"
   ]
  },
  {
   "cell_type": "markdown",
   "metadata": {},
   "source": [
    "This program I wrote is used to solve the nonhomogeneous equation for Question 18 b). \n",
    "I have referred to the Excel Document created by Instructor van Paridon as a guide. "
   ]
  },
  {
   "cell_type": "code",
   "execution_count": 62,
   "metadata": {},
   "outputs": [],
   "source": [
    "import sympy "
   ]
  },
  {
   "cell_type": "code",
   "execution_count": 63,
   "metadata": {},
   "outputs": [],
   "source": [
    "import mpmath\n",
    "from sympy import Function\n",
    "from sympy import Symbol, cos, sin,  exp\n",
    "from sympy import diff, solve, Eq"
   ]
  },
  {
   "cell_type": "markdown",
   "metadata": {},
   "source": [
    "Let us define our differential equation in the form of y'' + p(t)y' + q(t)y = g(t)"
   ]
  },
  {
   "cell_type": "code",
   "execution_count": 79,
   "metadata": {},
   "outputs": [],
   "source": [
    "p= Function('p')\n",
    "q= Function('q')\n",
    "g= Function('g')\n"
   ]
  },
  {
   "cell_type": "markdown",
   "metadata": {},
   "source": [
    "Our homogeneous differential equation, HDE will be:"
   ]
  },
  {
   "cell_type": "markdown",
   "metadata": {},
   "source": [
    "We can also define y - the dependent variable, and t - the dependent variable "
   ]
  },
  {
   "cell_type": "code",
   "execution_count": 82,
   "metadata": {},
   "outputs": [],
   "source": [
    "y = sym.Symbol('y')\n",
    "t = sym.Symbol('t')\n"
   ]
  },
  {
   "cell_type": "code",
   "execution_count": 83,
   "metadata": {},
   "outputs": [],
   "source": [
    "HDE= Function('HDE')"
   ]
  },
  {
   "cell_type": "markdown",
   "metadata": {},
   "source": [
    "Defining our constants:"
   ]
  },
  {
   "cell_type": "code",
   "execution_count": 84,
   "metadata": {},
   "outputs": [],
   "source": [
    "A = sym.Symbol('A')\n",
    "B = sym.Symbol('B')\n",
    "C = sym.Symbol('C')\n",
    "D = sym.Symbol('D')\n",
    "E = sym.Symbol('E')\n",
    "F = sym.Symbol('F')\n",
    "G = sym.Symbol('G')"
   ]
  },
  {
   "cell_type": "markdown",
   "metadata": {},
   "source": [
    "Writing our particular solution:"
   ]
  },
  {
   "cell_type": "code",
   "execution_count": 85,
   "metadata": {},
   "outputs": [],
   "source": [
    "y_p= Function('y_p')"
   ]
  },
  {
   "cell_type": "code",
   "execution_count": 86,
   "metadata": {},
   "outputs": [],
   "source": [
    "y_p= A*exp(-t) + t*(B*exp(-t)*cos(t) + C*exp(-t)*sin(t) + D*exp(-t)*cos(t)*t**2 + E*exp(-t)*sin(t)*t**2 + F*exp(-t)*cos(t)*t + G*exp(-t)*sin(t)*t)"
   ]
  },
  {
   "cell_type": "markdown",
   "metadata": {},
   "source": [
    "Let y_pt be the first derivative with respect to t of our particular solution"
   ]
  },
  {
   "cell_type": "code",
   "execution_count": 71,
   "metadata": {},
   "outputs": [],
   "source": [
    "y_pt= Function('y_pt')\n",
    "y_pt= diff(y_p, t)"
   ]
  },
  {
   "cell_type": "markdown",
   "metadata": {},
   "source": [
    "Let y_ptt be the second derivative with respect to t of our particular solution"
   ]
  },
  {
   "cell_type": "code",
   "execution_count": 72,
   "metadata": {},
   "outputs": [],
   "source": [
    "y_ptt= Function('y_ptt')\n",
    "y_ptt= diff(y_pt, t)"
   ]
  },
  {
   "cell_type": "markdown",
   "metadata": {},
   "source": [
    "Now we substitue y_p, y_pt, and y_ptt into our equation:"
   ]
  },
  {
   "cell_type": "markdown",
   "metadata": {},
   "source": [
    "For this problem, we can define p,q, and g"
   ]
  },
  {
   "cell_type": "code",
   "execution_count": 87,
   "metadata": {},
   "outputs": [],
   "source": [
    "p= 2\n",
    "q= 2\n",
    "g= 3*exp(-t) + 2*exp(-t)*cos(t) + 4*exp(-t)*sin(t)*t**2"
   ]
  },
  {
   "cell_type": "markdown",
   "metadata": {},
   "source": [
    "Now, we can use the computer to help us simplify the LHS of the equation. Afterwards, we will equate it to the right hand side, which is g, so that we can have our system of equations to solve simultaneously"
   ]
  },
  {
   "cell_type": "markdown",
   "metadata": {},
   "source": [
    "Let LHS be the LHS, which is just our particular solutions and the derivatives substituted into our original differential equation, and LHSsimple be the simplifed version."
   ]
  },
  {
   "cell_type": "code",
   "execution_count": 119,
   "metadata": {},
   "outputs": [],
   "source": [
    "LHS = y_ptt + p*y_pt + q*y_p "
   ]
  },
  {
   "cell_type": "code",
   "execution_count": 120,
   "metadata": {},
   "outputs": [],
   "source": [
    "from sympy import simplify"
   ]
  },
  {
   "cell_type": "code",
   "execution_count": 121,
   "metadata": {},
   "outputs": [],
   "source": [
    "LHSsimple= simplify(LHS)"
   ]
  },
  {
   "cell_type": "markdown",
   "metadata": {},
   "source": [
    "The next line prints LHSsimple so that I can extract the constants to form the system of equations."
   ]
  },
  {
   "cell_type": "code",
   "execution_count": 122,
   "metadata": {},
   "outputs": [
    {
     "name": "stdout",
     "output_type": "stream",
     "text": [
      "(A - 2*B*sin(t) + 2*C*cos(t) - 6*D*t**2*sin(t) + 6*D*t*cos(t) + 6*E*t**2*cos(t) + 6*E*t*sin(t) - 4*F*t*sin(t) + 2*F*cos(t) + 4*G*t*cos(t) + 2*G*sin(t))*exp(-t)\n"
     ]
    }
   ],
   "source": [
    "print(LHSsimple)"
   ]
  },
  {
   "cell_type": "markdown",
   "metadata": {},
   "source": [
    "We can now write out the linear equations!"
   ]
  },
  {
   "cell_type": "code",
   "execution_count": 139,
   "metadata": {},
   "outputs": [],
   "source": [
    "eq1= A - 3\n",
    "eq2= -2*B + 2*G\n",
    "eq3= 2*C + 2*F -2\n",
    "eq4= -6*D -4\n",
    "eq5= 6*D + 4*G\n",
    "eq6= 6*E\n",
    "eq7= 6*E - 4*F"
   ]
  },
  {
   "cell_type": "code",
   "execution_count": 140,
   "metadata": {},
   "outputs": [],
   "source": [
    "from sympy.solvers.solveset import linsolve"
   ]
  },
  {
   "cell_type": "code",
   "execution_count": 142,
   "metadata": {},
   "outputs": [],
   "source": [
    "ANSWER= linsolve([eq1, eq2, eq3, eq4, eq5, eq6, eq7 ], (A, B, C, D, E, F,G))"
   ]
  },
  {
   "cell_type": "code",
   "execution_count": 143,
   "metadata": {},
   "outputs": [
    {
     "name": "stdout",
     "output_type": "stream",
     "text": [
      "{(3, 1, 1, -2/3, 0, 0, 1)}\n"
     ]
    }
   ],
   "source": [
    "print(ANSWER)"
   ]
  },
  {
   "cell_type": "markdown",
   "metadata": {},
   "source": [
    "Yay! We got it! A=3, B=1, C=1, D=-2/3, E=0, F=0, G=1. "
   ]
  },
  {
   "cell_type": "code",
   "execution_count": null,
   "metadata": {},
   "outputs": [],
   "source": []
  }
 ],
 "metadata": {
  "kernelspec": {
   "display_name": "Python 3",
   "language": "python",
   "name": "python3"
  },
  "language_info": {
   "codemirror_mode": {
    "name": "ipython",
    "version": 3
   },
   "file_extension": ".py",
   "mimetype": "text/x-python",
   "name": "python",
   "nbconvert_exporter": "python",
   "pygments_lexer": "ipython3",
   "version": "3.7.1"
  }
 },
 "nbformat": 4,
 "nbformat_minor": 2
}
